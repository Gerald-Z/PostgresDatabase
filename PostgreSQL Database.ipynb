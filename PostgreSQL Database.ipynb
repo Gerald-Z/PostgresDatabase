{
 "cells": [
  {
   "cell_type": "code",
   "execution_count": null,
   "metadata": {},
   "outputs": [
    {
     "name": "stdout",
     "output_type": "stream",
     "text": [
      "Requirement already satisfied: psycopg2 in c:\\users\\gerald\\anaconda3\\lib\\site-packages (2.9.5)\n",
      "Note: you may need to restart the kernel to use updated packages.\n"
     ]
    }
   ],
   "source": [
    "%pip install psycopg2"
   ]
  },
  {
   "cell_type": "code",
   "execution_count": 1,
   "metadata": {},
   "outputs": [],
   "source": [
    "import psycopg2"
   ]
  },
  {
   "cell_type": "code",
   "execution_count": 2,
   "metadata": {},
   "outputs": [
    {
     "name": "stdout",
     "output_type": "stream",
     "text": [
      "None\n"
     ]
    }
   ],
   "source": [
    "conn = psycopg2.connect(dbname=\"postgres\", user=\"postgres\", password=\"20010802\")\n",
    "cursor = conn.cursor()\n",
    "cursor.execute(\"CREATE TABLE notes(id integer PRIMARY KEY, body text, title text)\")\n",
    "print(cursor.description)\n",
    "conn.close()"
   ]
  },
  {
   "cell_type": "code",
   "execution_count": 11,
   "metadata": {},
   "outputs": [
    {
     "ename": "DuplicateDatabase",
     "evalue": "database \"my_db\" already exists\n",
     "output_type": "error",
     "traceback": [
      "\u001b[1;31m---------------------------------------------------------------------------\u001b[0m",
      "\u001b[1;31mDuplicateDatabase\u001b[0m                         Traceback (most recent call last)",
      "\u001b[1;32m<ipython-input-11-c468c7ea0bc7>\u001b[0m in \u001b[0;36m<module>\u001b[1;34m\u001b[0m\n\u001b[0;32m      2\u001b[0m \u001b[0mcur\u001b[0m \u001b[1;33m=\u001b[0m \u001b[0mconn\u001b[0m\u001b[1;33m.\u001b[0m\u001b[0mcursor\u001b[0m\u001b[1;33m(\u001b[0m\u001b[1;33m)\u001b[0m\u001b[1;33m\u001b[0m\u001b[1;33m\u001b[0m\u001b[0m\n\u001b[0;32m      3\u001b[0m \u001b[0mconn\u001b[0m\u001b[1;33m.\u001b[0m\u001b[0mautocommit\u001b[0m \u001b[1;33m=\u001b[0m \u001b[1;32mTrue\u001b[0m\u001b[1;33m\u001b[0m\u001b[1;33m\u001b[0m\u001b[0m\n\u001b[1;32m----> 4\u001b[1;33m \u001b[0mcur\u001b[0m\u001b[1;33m.\u001b[0m\u001b[0mexecute\u001b[0m\u001b[1;33m(\u001b[0m\u001b[1;34m\"CREATE DATABASE my_db;\"\u001b[0m\u001b[1;33m)\u001b[0m\u001b[1;33m\u001b[0m\u001b[1;33m\u001b[0m\u001b[0m\n\u001b[0m\u001b[0;32m      5\u001b[0m \u001b[0mconn\u001b[0m\u001b[1;33m.\u001b[0m\u001b[0mautocommit\u001b[0m \u001b[1;33m=\u001b[0m \u001b[1;32mFalse\u001b[0m\u001b[1;33m\u001b[0m\u001b[1;33m\u001b[0m\u001b[0m\n\u001b[0;32m      6\u001b[0m \u001b[0mcur\u001b[0m\u001b[1;33m.\u001b[0m\u001b[0mexecute\u001b[0m\u001b[1;33m(\u001b[0m\u001b[1;34m\"CREATE SCHEMA my_schema\"\u001b[0m\u001b[1;33m)\u001b[0m\u001b[1;33m\u001b[0m\u001b[1;33m\u001b[0m\u001b[0m\n",
      "\u001b[1;31mDuplicateDatabase\u001b[0m: database \"my_db\" already exists\n"
     ]
    }
   ],
   "source": [
    "conn = psycopg2.connect(dbname=\"postgres\", user=\"postgres\", password=\"20010802\")\n",
    "cur = conn.cursor()\n",
    "conn.autocommit = True\n",
    "cur.execute(\"CREATE DATABASE my_db;\")\n",
    "conn.autocommit = False\n",
    "cur.execute(\"CREATE SCHEMA my_schema\")\n",
    "conn.commit()\n",
    "print(cur.description)\n",
    "conn.close()\n",
    "\n"
   ]
  },
  {
   "cell_type": "code",
   "execution_count": 3,
   "metadata": {},
   "outputs": [
    {
     "ename": "DuplicateSchema",
     "evalue": "schema \"my_schema\" already exists\n",
     "output_type": "error",
     "traceback": [
      "\u001b[1;31m---------------------------------------------------------------------------\u001b[0m",
      "\u001b[1;31mDuplicateSchema\u001b[0m                           Traceback (most recent call last)",
      "\u001b[1;32m<ipython-input-3-447367a074f8>\u001b[0m in \u001b[0;36m<module>\u001b[1;34m\u001b[0m\n\u001b[0;32m      1\u001b[0m \u001b[0mconn\u001b[0m \u001b[1;33m=\u001b[0m \u001b[0mpsycopg2\u001b[0m\u001b[1;33m.\u001b[0m\u001b[0mconnect\u001b[0m\u001b[1;33m(\u001b[0m\u001b[0mdbname\u001b[0m\u001b[1;33m=\u001b[0m\u001b[1;34m\"postgres\"\u001b[0m\u001b[1;33m,\u001b[0m \u001b[0muser\u001b[0m\u001b[1;33m=\u001b[0m\u001b[1;34m\"postgres\"\u001b[0m\u001b[1;33m,\u001b[0m \u001b[0mpassword\u001b[0m\u001b[1;33m=\u001b[0m\u001b[1;34m\"20010802\"\u001b[0m\u001b[1;33m)\u001b[0m\u001b[1;33m\u001b[0m\u001b[1;33m\u001b[0m\u001b[0m\n\u001b[0;32m      2\u001b[0m \u001b[0mcur\u001b[0m \u001b[1;33m=\u001b[0m \u001b[0mconn\u001b[0m\u001b[1;33m.\u001b[0m\u001b[0mcursor\u001b[0m\u001b[1;33m(\u001b[0m\u001b[1;33m)\u001b[0m\u001b[1;33m\u001b[0m\u001b[1;33m\u001b[0m\u001b[0m\n\u001b[1;32m----> 3\u001b[1;33m \u001b[0mcur\u001b[0m\u001b[1;33m.\u001b[0m\u001b[0mexecute\u001b[0m\u001b[1;33m(\u001b[0m\u001b[1;34m\"CREATE SCHEMA my_schema\"\u001b[0m\u001b[1;33m)\u001b[0m\u001b[1;33m\u001b[0m\u001b[1;33m\u001b[0m\u001b[0m\n\u001b[0m\u001b[0;32m      4\u001b[0m \u001b[0mconn\u001b[0m\u001b[1;33m.\u001b[0m\u001b[0mcommit\u001b[0m\u001b[1;33m(\u001b[0m\u001b[1;33m)\u001b[0m\u001b[1;33m\u001b[0m\u001b[1;33m\u001b[0m\u001b[0m\n\u001b[0;32m      5\u001b[0m \u001b[0mprint\u001b[0m\u001b[1;33m(\u001b[0m\u001b[0mcur\u001b[0m\u001b[1;33m.\u001b[0m\u001b[0mdescription\u001b[0m\u001b[1;33m)\u001b[0m\u001b[1;33m\u001b[0m\u001b[1;33m\u001b[0m\u001b[0m\n",
      "\u001b[1;31mDuplicateSchema\u001b[0m: schema \"my_schema\" already exists\n"
     ]
    }
   ],
   "source": [
    "conn = psycopg2.connect(dbname=\"postgres\", user=\"postgres\", password=\"20010802\")\n",
    "cur = conn.cursor()\n",
    "cur.execute(\"CREATE SCHEMA my_schema\")\n",
    "conn.commit()\n",
    "print(cur.description)\n",
    "conn.close()"
   ]
  },
  {
   "cell_type": "code",
   "execution_count": 4,
   "metadata": {},
   "outputs": [],
   "source": [
    "import csv\n",
    "with open(\"boston.csv\") as file:\n",
    "    reader = csv.reader(file)\n",
    "    col_headers = next(reader)\n",
    "    first_row = next(reader)"
   ]
  },
  {
   "cell_type": "code",
   "execution_count": 8,
   "metadata": {},
   "outputs": [
    {
     "data": {
      "text/plain": [
       "['incident_number',\n",
       " 'offense_code',\n",
       " 'description',\n",
       " 'date',\n",
       " 'day_of_the_week',\n",
       " 'lat',\n",
       " 'long']"
      ]
     },
     "execution_count": 8,
     "metadata": {},
     "output_type": "execute_result"
    }
   ],
   "source": [
    "col_headers "
   ]
  },
  {
   "cell_type": "code",
   "execution_count": 9,
   "metadata": {},
   "outputs": [
    {
     "name": "stdout",
     "output_type": "stream",
     "text": [
      "incident_number\t298329\n",
      "offense_code\t219\n",
      "description\t239\n",
      "date\t1177\n",
      "day_of_the_week\t7\n",
      "lat\t18177\n",
      "long\t18177\n"
     ]
    }
   ],
   "source": [
    "def get_col_set(csv_file, col_index):\n",
    "    import csv\n",
    "    values = set()\n",
    "    with open(csv_file, 'r') as f:\n",
    "        next(f)\n",
    "        reader = csv.reader(f)\n",
    "        for row in reader:\n",
    "            values.add(row[col_index])\n",
    "    return values\n",
    "\n",
    "for i in range(len(col_headers)):\n",
    "    values = get_col_set(\"boston.csv\", i)\n",
    "    print(col_headers[i], len(values), sep='\\t')"
   ]
  },
  {
   "cell_type": "code",
   "execution_count": 10,
   "metadata": {},
   "outputs": [
    {
     "name": "stdout",
     "output_type": "stream",
     "text": [
      "['incident_number', 'offense_code', 'description', 'date', 'day_of_the_week', 'lat', 'long']\n"
     ]
    }
   ],
   "source": [
    "print(col_headers)"
   ]
  },
  {
   "cell_type": "code",
   "execution_count": 11,
   "metadata": {},
   "outputs": [
    {
     "name": "stdout",
     "output_type": "stream",
     "text": [
      "58\n"
     ]
    }
   ],
   "source": [
    "descriptions = get_col_set(\"boston.csv\", 2);\n",
    "max_len = 0\n",
    "for description in descriptions:\n",
    "    max_len = max(max_len, len(description))\n",
    "print(max_len)"
   ]
  },
  {
   "cell_type": "code",
   "execution_count": 12,
   "metadata": {},
   "outputs": [
    {
     "data": {
      "text/plain": [
       "{'A&B HANDS, FEET, ETC.  - MED. ATTENTION REQ.',\n",
       " 'A&B ON POLICE OFFICER',\n",
       " 'ABDUCTION - INTICING',\n",
       " 'AFFRAY',\n",
       " 'AIRCRAFT INCIDENTS',\n",
       " 'ANIMAL ABUSE',\n",
       " 'ANIMAL CONTROL - DOG BITES - ETC.',\n",
       " 'ANIMAL INCIDENTS',\n",
       " 'ANNOYING AND ACCOSTIN',\n",
       " 'ANNOYING AND ACCOSTING',\n",
       " 'ARSON',\n",
       " 'ASSAULT & BATTERY',\n",
       " 'ASSAULT & BATTERY D/W - KNIFE',\n",
       " 'ASSAULT & BATTERY D/W - OTHER',\n",
       " 'ASSAULT & BATTERY D/W - OTHER ON POLICE OFFICER',\n",
       " 'ASSAULT - AGGRAVATED',\n",
       " 'ASSAULT - AGGRAVATED - BATTERY',\n",
       " 'ASSAULT - SIMPLE',\n",
       " 'ASSAULT D/W - KNIFE ON POLICE OFFICER',\n",
       " 'ASSAULT D/W - OTHER',\n",
       " 'ASSAULT SIMPLE - BATTERY',\n",
       " 'AUTO THEFT',\n",
       " 'AUTO THEFT - LEASED/RENTED VEHICLE',\n",
       " 'AUTO THEFT - MOTORCYCLE / SCOOTER',\n",
       " 'AUTO THEFT - OUTSIDE - RECOVERED IN BOSTON',\n",
       " 'AUTO THEFT - RECOVERED IN BY POLICE',\n",
       " 'AUTO THEFT LEASE/RENT VEHICLE',\n",
       " 'AUTO THEFT OTHER',\n",
       " 'B&E NON-RESIDENCE DAY - FORCIBLE',\n",
       " 'B&E NON-RESIDENCE DAY - NO FORCE',\n",
       " 'B&E NON-RESIDENCE DAY - NO PROP TAKEN',\n",
       " 'B&E NON-RESIDENCE NIGHT - FORCE',\n",
       " 'B&E RESIDENCE DAY - NO FORCE',\n",
       " 'B&E RESIDENCE DAY - NO PROP TAKEN',\n",
       " 'B&E RESIDENCE NIGHT - ATTEMPT FORCE',\n",
       " 'BALLISTICS EVIDENCE/FOUND',\n",
       " 'BIOLOGICAL THREATS',\n",
       " 'BOMB THREAT',\n",
       " 'BURGLARY - COMMERICAL - ATTEMPT',\n",
       " 'BURGLARY - COMMERICAL - FORCE',\n",
       " 'BURGLARY - COMMERICAL - NO FORCE',\n",
       " 'BURGLARY - OTHER - ATTEMPT',\n",
       " 'BURGLARY - OTHER - FORCE',\n",
       " 'BURGLARY - OTHER - NO FORCE',\n",
       " 'BURGLARY - RESIDENTIAL - ATTEMPT',\n",
       " 'BURGLARY - RESIDENTIAL - FORCE',\n",
       " 'BURGLARY - RESIDENTIAL - NO FORCE',\n",
       " 'CHILD ABANDONMENT (NO ASSAULT)',\n",
       " 'CHILD ABUSE',\n",
       " 'CHILD ENDANGERMENT',\n",
       " 'CHILD ENDANGERMENT (NO ASSAULT)',\n",
       " 'CHINS',\n",
       " 'CONSPIRACY EXCEPT DRUG LAW',\n",
       " 'CONTRIBUTING TO DELINQUENCY OF MINOR',\n",
       " 'CRIMINAL HARASSMENT',\n",
       " 'CUSTODIAL KIDNAPPING',\n",
       " 'DANGEROUS OR HAZARDOUS CONDITION',\n",
       " 'DEATH INVESTIGATION',\n",
       " 'DEMONSTRATIONS/RIOT',\n",
       " 'DISORDERLY CONDUCT',\n",
       " 'DISORDERLY PERSON',\n",
       " 'DISTURBING THE PEACE',\n",
       " 'DRUGS - CLASS A TRAFFICKING OVER 18 GRAMS',\n",
       " 'DRUGS - CLASS B TRAFFICKING OVER 18 GRAMS',\n",
       " 'DRUGS - CLASS D TRAFFICKING OVER 50 GRAMS',\n",
       " 'DRUGS - CONSP TO VIOL CONTROLLED SUBSTANCE',\n",
       " 'DRUGS - GLUE INHALATION',\n",
       " 'DRUGS - OTHER',\n",
       " 'DRUGS - POSS CLASS A - HEROIN, ETC.',\n",
       " 'DRUGS - POSS CLASS A - HEROIN, ETC. ',\n",
       " 'DRUGS - POSS CLASS A - INTENT TO MFR DIST DISP',\n",
       " 'DRUGS - POSS CLASS B - COCAINE, ETC.',\n",
       " 'DRUGS - POSS CLASS B - INTENT TO MFR DIST DISP',\n",
       " 'DRUGS - POSS CLASS C',\n",
       " 'DRUGS - POSS CLASS C - INTENT TO MFR DIST DISP',\n",
       " 'DRUGS - POSS CLASS D',\n",
       " 'DRUGS - POSS CLASS D - INTENT MFR DIST DISP',\n",
       " 'DRUGS - POSS CLASS D - INTENT TO MFR DIST DISP',\n",
       " 'DRUGS - POSS CLASS D - MARIJUANA, ETC.',\n",
       " 'DRUGS - POSS CLASS E',\n",
       " 'DRUGS - POSS CLASS E - INTENT TO MFR DIST DISP',\n",
       " 'DRUGS - POSS CLASS E INTENT TO MF DIST DISP',\n",
       " 'DRUGS - POSSESSION',\n",
       " 'DRUGS - POSSESSION OF DRUG PARAPHANALIA',\n",
       " 'DRUGS - SALE / MANUFACTURING',\n",
       " 'DRUGS - SICK ASSIST - HEROIN',\n",
       " 'DRUGS - SICK ASSIST - OTHER HARMFUL DRUG',\n",
       " 'DRUGS - SICK ASSIST - OTHER NARCOTIC',\n",
       " 'EMBEZZLEMENT',\n",
       " 'EVADING FARE',\n",
       " 'EXPLOSIVES - POSSESSION OR USE',\n",
       " 'EXPLOSIVES - TURNED IN OR FOUND',\n",
       " 'EXTORTION OR BLACKMAIL',\n",
       " 'FIRE REPORT - CAR, BRUSH, ETC.',\n",
       " 'FIRE REPORT - HOUSE, BUILDING, ETC.',\n",
       " 'FIRE REPORT/ALARM - FALSE',\n",
       " 'FIREARM/WEAPON - ACCIDENTAL INJURY / DEATH',\n",
       " 'FIREARM/WEAPON - CARRY - SELL - RENT',\n",
       " 'FIREARM/WEAPON - FOUND OR CONFISCATED',\n",
       " 'FIREARM/WEAPON - LOST',\n",
       " 'FIREARM/WEAPON - POSSESSION OF DANGEROUS',\n",
       " 'FORGERY / COUNTERFEITING',\n",
       " 'FORGERY OR UTTERING',\n",
       " 'FRAUD - CREDIT CARD / ATM FRAUD',\n",
       " 'FRAUD - FALSE PRETENSE',\n",
       " 'FRAUD - FALSE PRETENSE / SCHEME',\n",
       " 'FRAUD - IMPERSONATION',\n",
       " 'FRAUD - WELFARE',\n",
       " 'FRAUD - WIRE',\n",
       " 'FRAUDS - ALL OTHER',\n",
       " 'FUGITIVE FROM JUSTICE',\n",
       " 'GAMBLING - BETTING / WAGERING',\n",
       " 'GATHERING CAUSING ANNOYANCE',\n",
       " 'GRAFFITI',\n",
       " 'HARASSMENT',\n",
       " 'HARBOR INCIDENT / VIOLATION',\n",
       " 'HOME INVASION',\n",
       " 'HUMAN TRAFFICKING - COMMERCIAL SEX ACTS',\n",
       " 'HUMAN TRAFFICKING - INVOLUNTARY SERVITUDE',\n",
       " 'INJURY BICYCLE NO M/V INVOLVED',\n",
       " 'INTIMIDATING WITNESS',\n",
       " 'INVESTIGATE PERSON',\n",
       " 'INVESTIGATE PROPERTY',\n",
       " 'INVESTIGATION FOR ANOTHER AGENCY',\n",
       " 'KIDNAPPING - ENTICING OR ATTEMPTED',\n",
       " 'KIDNAPPING/CUSTODIAL KIDNAPPING',\n",
       " 'KILLING OF FELON BY POLICE',\n",
       " 'LANDLORD - TENANT SERVICE',\n",
       " 'LARCENY ALL OTHERS',\n",
       " 'LARCENY BICYCLE $200 & OVER',\n",
       " 'LARCENY IN A BUILDING $200 & OVER',\n",
       " 'LARCENY IN A BUILDING $50 TO $199',\n",
       " 'LARCENY IN A BUILDING UNDER $50',\n",
       " 'LARCENY NON-ACCESSORY FROM VEH. $50 TO $199',\n",
       " 'LARCENY OTHER $200 & OVER',\n",
       " 'LARCENY OTHER $50 TO $199',\n",
       " 'LARCENY OTHER UNDER $50',\n",
       " 'LARCENY PICK-POCKET',\n",
       " 'LARCENY PURSE SNATCH - NO FORCE ',\n",
       " 'LARCENY SHOPLIFTING',\n",
       " 'LARCENY SHOPLIFTING $200 & OVER',\n",
       " 'LARCENY SHOPLIFTING $50 TO $199',\n",
       " 'LARCENY SHOPLIFTING UNDER $50',\n",
       " 'LARCENY THEFT FROM BUILDING',\n",
       " 'LARCENY THEFT FROM COIN-OP MACHINE',\n",
       " 'LARCENY THEFT FROM MV - NON-ACCESSORY',\n",
       " 'LARCENY THEFT OF BICYCLE',\n",
       " 'LARCENY THEFT OF MV PARTS & ACCESSORIES',\n",
       " 'LICENSE PREMISE VIOLATION',\n",
       " 'LIQUOR - DRINKING IN PUBLIC',\n",
       " 'LIQUOR LAW VIOLATION',\n",
       " 'M/V - LEAVING SCENE - PERSONAL INJURY',\n",
       " 'M/V - LEAVING SCENE - PROPERTY DAMAGE',\n",
       " 'M/V ACCIDENT - INVOLVING BICYCLE - NO INJURY',\n",
       " 'M/V ACCIDENT - INVOLVING PEDESTRIAN - NO INJURY',\n",
       " 'M/V ACCIDENT - INVOLVING Â\\xa0BICYCLE - INJURY',\n",
       " 'M/V ACCIDENT - OTHER',\n",
       " 'M/V ACCIDENT - OTHER CITY VEHICLE',\n",
       " 'M/V ACCIDENT - PERSONAL INJURY',\n",
       " 'M/V ACCIDENT - POLICE VEHICLE',\n",
       " 'M/V ACCIDENT - PROPERTY Â\\xa0DAMAGE',\n",
       " 'M/V ACCIDENT INVOLVING PEDESTRIAN - INJURY',\n",
       " 'M/V PLATES - LOST',\n",
       " 'MANSLAUGHTER - NON-VEHICLE - NEGLIGENCE',\n",
       " 'MANSLAUGHTER - VEHICLE - NEGLIGENCE',\n",
       " 'MISSING PERSON',\n",
       " 'MISSING PERSON - LOCATED',\n",
       " 'MISSING PERSON - NOT REPORTED - LOCATED',\n",
       " 'MURDER, NON-NEGLIGIENT MANSLAUGHTER',\n",
       " 'NOISY PARTY/RADIO-ARREST',\n",
       " 'NOISY PARTY/RADIO-NO ARREST',\n",
       " 'OBSCENE MATERIALS - PORNOGRAPHY',\n",
       " 'OBSCENE PHONE CALLS',\n",
       " 'OPERATING UNDER THE INFLUENCE ALCOHOL',\n",
       " 'OPERATING UNDER THE INFLUENCE DRUGS',\n",
       " 'OTHER OFFENSE',\n",
       " 'POSSESSION OF BURGLARIOUS TOOLS',\n",
       " 'PRISONER - SUICIDE / SUICIDE ATTEMPT',\n",
       " 'PRISONER ATTEMPT TO RESCUE',\n",
       " 'PRISONER ESCAPE / ESCAPE & RECAPTURE',\n",
       " 'PROPERTY - ACCIDENTAL DAMAGE',\n",
       " 'PROPERTY - CONCEALING LEASED',\n",
       " 'PROPERTY - FOUND',\n",
       " 'PROPERTY - LOST',\n",
       " 'PROPERTY - LOST THEN LOCATED',\n",
       " 'PROPERTY - MISSING',\n",
       " 'PROPERTY - RECEIVING STOLEN',\n",
       " 'PROPERTY - STOLEN THEN RECOVERED',\n",
       " 'PROSTITUTE - COMMON NIGHTWALKER',\n",
       " 'PROSTITUTION',\n",
       " 'PROSTITUTION - ASSISTING OR PROMOTING',\n",
       " 'PROSTITUTION - COMMON NIGHTWALKER',\n",
       " 'PROSTITUTION - SOLICITING',\n",
       " 'PROTECTIVE CUSTODY / SAFEKEEPING',\n",
       " 'RECOVERED - MV RECOVERED IN BOSTON (STOLEN OUTSIDE BOSTON)',\n",
       " 'RECOVERED STOLEN PLATE',\n",
       " 'REPORT AFFECTING OTHER DEPTS.',\n",
       " 'ROBBERY - BANK',\n",
       " 'ROBBERY - CAR JACKING',\n",
       " 'ROBBERY - COMMERCIAL',\n",
       " 'ROBBERY - HOME INVASION',\n",
       " 'ROBBERY - KNIFE - STREET',\n",
       " 'ROBBERY - OTHER',\n",
       " 'ROBBERY - STREET',\n",
       " 'ROBBERY - UNARMED - CHAIN STORE',\n",
       " 'ROBBERY - UNARMED - STREET',\n",
       " 'ROBBERY ATTEMPT - KNIFE - BANK',\n",
       " 'SEARCH WARRANT',\n",
       " 'SERVICE TO OTHER PD INSIDE OF MA.',\n",
       " 'SERVICE TO OTHER PD OUTSIDE OF MA.',\n",
       " 'SICK/INJURED/MEDICAL - PERSON',\n",
       " 'SICK/INJURED/MEDICAL - POLICE',\n",
       " 'STALKING',\n",
       " 'STOLEN PROPERTY - BUYING / RECEIVING / POSSESSING',\n",
       " 'SUDDEN DEATH',\n",
       " 'SUICIDE / SUICIDE ATTEMPT',\n",
       " 'THREATS TO DO BODILY HARM',\n",
       " 'TOWED MOTOR VEHICLE',\n",
       " 'TRESPASSING',\n",
       " 'TRUANCY / RUNAWAY',\n",
       " 'VAL - OPERATING AFTER REV/SUSP.',\n",
       " 'VAL - OPERATING UNREG/UNINS Â\\xa0CAR',\n",
       " 'VAL - OPERATING W/O AUTHORIZATION LAWFUL',\n",
       " 'VAL - OPERATING WITHOUT LICENSE',\n",
       " 'VAL - VIOLATION OF AUTO LAW - OTHER',\n",
       " 'VANDALISM',\n",
       " 'VERBAL DISPUTE',\n",
       " 'VIOL. OF RESTRAINING ORDER W ARREST',\n",
       " 'VIOL. OF RESTRAINING ORDER W NO ARREST',\n",
       " 'VIOLATION - CITY ORDINANCE',\n",
       " 'VIOLATION - CITY ORDINANCE CONSTRUCTION PERMIT',\n",
       " 'VIOLATION - HAWKER AND PEDDLER',\n",
       " 'VIOLATION - RESTRAINING ORDER',\n",
       " 'WARRANT ARREST',\n",
       " 'WEAPON - FIREARM - CARRYING / POSSESSING, ETC',\n",
       " 'WEAPON - FIREARM - OTHER VIOLATION',\n",
       " 'WEAPON - FIREARM - SALE / TRAFFICKING',\n",
       " 'WEAPON - OTHER - CARRYING / POSSESSING, ETC',\n",
       " 'WEAPON - OTHER - OTHER VIOLATION'}"
      ]
     },
     "execution_count": 12,
     "metadata": {},
     "output_type": "execute_result"
    }
   ],
   "source": [
    "descriptions"
   ]
  },
  {
   "cell_type": "code",
   "execution_count": 13,
   "metadata": {},
   "outputs": [
    {
     "name": "stdout",
     "output_type": "stream",
     "text": [
      "['incident_number', 'offense_code', 'description', 'date', 'day_of_the_week', 'lat', 'long']\n"
     ]
    }
   ],
   "source": [
    "print(col_headers)"
   ]
  },
  {
   "cell_type": "code",
   "execution_count": 14,
   "metadata": {},
   "outputs": [
    {
     "name": "stdout",
     "output_type": "stream",
     "text": [
      "['1', '619', 'LARCENY ALL OTHERS', '2018-09-02', 'Sunday', '42.35779134', '-71.13937053']\n"
     ]
    }
   ],
   "source": [
    "print(first_row)"
   ]
  },
  {
   "cell_type": "code",
   "execution_count": 15,
   "metadata": {},
   "outputs": [
    {
     "ename": "DuplicateObject",
     "evalue": "type \"weekday\" already exists\n",
     "output_type": "error",
     "traceback": [
      "\u001b[1;31m---------------------------------------------------------------------------\u001b[0m",
      "\u001b[1;31mDuplicateObject\u001b[0m                           Traceback (most recent call last)",
      "\u001b[1;32m<ipython-input-15-f8d2cb4ee3b2>\u001b[0m in \u001b[0;36m<module>\u001b[1;34m\u001b[0m\n\u001b[0;32m      2\u001b[0m \u001b[0mcur\u001b[0m \u001b[1;33m=\u001b[0m \u001b[0mconn\u001b[0m\u001b[1;33m.\u001b[0m\u001b[0mcursor\u001b[0m\u001b[1;33m(\u001b[0m\u001b[1;33m)\u001b[0m\u001b[1;33m\u001b[0m\u001b[1;33m\u001b[0m\u001b[0m\n\u001b[0;32m      3\u001b[0m cur.execute(\"\"\"\n\u001b[1;32m----> 4\u001b[1;33m     CREATE TYPE weekday AS ENUM ('Monday', 'Tuesday', 'Wednesday', 'Thursday', 'Friday', 'Saturday', 'Sunday');\"\"\")\n\u001b[0m\u001b[0;32m      5\u001b[0m \u001b[0mconn\u001b[0m\u001b[1;33m.\u001b[0m\u001b[0mcommit\u001b[0m\u001b[1;33m(\u001b[0m\u001b[1;33m)\u001b[0m\u001b[1;33m\u001b[0m\u001b[1;33m\u001b[0m\u001b[0m\n",
      "\u001b[1;31mDuplicateObject\u001b[0m: type \"weekday\" already exists\n"
     ]
    }
   ],
   "source": [
    "conn = psycopg2.connect(dbname=\"postgres\", user=\"postgres\", password=\"20010802\")\n",
    "cur = conn.cursor()\n",
    "cur.execute(\"\"\"\n",
    "    CREATE TYPE weekday AS ENUM ('Monday', 'Tuesday', 'Wednesday', 'Thursday', 'Friday', 'Saturday', 'Sunday');\"\"\")\n",
    "conn.commit()\n"
   ]
  },
  {
   "cell_type": "code",
   "execution_count": 16,
   "metadata": {},
   "outputs": [
    {
     "ename": "DuplicateTable",
     "evalue": "relation \"boston_crimes\" already exists\n",
     "output_type": "error",
     "traceback": [
      "\u001b[1;31m---------------------------------------------------------------------------\u001b[0m",
      "\u001b[1;31mDuplicateTable\u001b[0m                            Traceback (most recent call last)",
      "\u001b[1;32m<ipython-input-16-e238b6a51d56>\u001b[0m in \u001b[0;36m<module>\u001b[1;34m\u001b[0m\n\u001b[0;32m     11\u001b[0m                 \u001b[0mlong\u001b[0m \u001b[0mdecimal\u001b[0m\u001b[1;33m(\u001b[0m\u001b[1;36m10\u001b[0m\u001b[1;33m,\u001b[0m \u001b[1;36m8\u001b[0m\u001b[1;33m)\u001b[0m\u001b[1;33m\u001b[0m\u001b[1;33m\u001b[0m\u001b[0m\n\u001b[0;32m     12\u001b[0m                 );\n\u001b[1;32m---> 13\u001b[1;33m              \"\"\")\n\u001b[0m\u001b[0;32m     14\u001b[0m \u001b[0mconn\u001b[0m\u001b[1;33m.\u001b[0m\u001b[0mcommit\u001b[0m\u001b[1;33m(\u001b[0m\u001b[1;33m)\u001b[0m\u001b[1;33m\u001b[0m\u001b[1;33m\u001b[0m\u001b[0m\n\u001b[0;32m     15\u001b[0m \u001b[0mconn\u001b[0m\u001b[1;33m.\u001b[0m\u001b[0mclose\u001b[0m\u001b[1;33m(\u001b[0m\u001b[1;33m)\u001b[0m\u001b[1;33m\u001b[0m\u001b[1;33m\u001b[0m\u001b[0m\n",
      "\u001b[1;31mDuplicateTable\u001b[0m: relation \"boston_crimes\" already exists\n"
     ]
    }
   ],
   "source": [
    "conn = psycopg2.connect(dbname=\"postgres\", user=\"postgres\", password=\"20010802\")\n",
    "cur = conn.cursor()\n",
    "cur.execute(\"\"\"\n",
    "            CREATE TABLE my_schema.boston_crimes (\n",
    "                incident_num integer PRIMARY KEY,\n",
    "                offense_code integer,\n",
    "                decription varchar(58),\n",
    "                date date,\n",
    "                week_day weekday,\n",
    "                lat decimal(10, 8),\n",
    "                long decimal(10, 8)\n",
    "                );\n",
    "             \"\"\")\n",
    "conn.commit()\n",
    "conn.close()"
   ]
  },
  {
   "cell_type": "code",
   "execution_count": 29,
   "metadata": {},
   "outputs": [],
   "source": [
    "conn = psycopg2.connect(dbname=\"postgres\", user=\"postgres\", password=\"20010802\")\n",
    "cur = conn.cursor()\n",
    "with open(\"boston.csv\", \"r\") as f:\n",
    "    cur.copy_expert(\"COPY my_schema.boston_crimes FROM STDIN WITH CSV HEADER;\", f)\n",
    "    conn.commit()\n",
    "conn.close()"
   ]
  },
  {
   "cell_type": "code",
   "execution_count": 30,
   "metadata": {},
   "outputs": [
    {
     "name": "stdout",
     "output_type": "stream",
     "text": [
      "(1, 619, 'LARCENY ALL OTHERS', datetime.date(2018, 9, 2), 'Sunday', Decimal('42.35779134'), Decimal('-71.13937053'))\n"
     ]
    }
   ],
   "source": [
    "conn = psycopg2.connect(dbname=\"postgres\", user=\"postgres\", password=\"20010802\")\n",
    "cur = conn.cursor()\n",
    "cur.execute(\"SELECT * FROM my_schema.boston_crimes;\")\n",
    "print(cur.fetchone())"
   ]
  },
  {
   "cell_type": "code",
   "execution_count": 34,
   "metadata": {},
   "outputs": [],
   "source": [
    "conn = psycopg2.connect(dbname=\"postgres\", user=\"postgres\", password=\"20010802\")\n",
    "cur = conn.cursor()\n",
    "cur.execute(\"REVOKE ALL ON SCHEMA public FROM public;\")\n",
    "cur.execute(\"REVOKE ALL ON DATABASE my_db FROM public;\")"
   ]
  },
  {
   "cell_type": "code",
   "execution_count": null,
   "metadata": {},
   "outputs": [],
   "source": []
  }
 ],
 "metadata": {
  "kernelspec": {
   "display_name": "Python 3",
   "language": "python",
   "name": "python3"
  },
  "language_info": {
   "codemirror_mode": {
    "name": "ipython",
    "version": 3
   },
   "file_extension": ".py",
   "mimetype": "text/x-python",
   "name": "python",
   "nbconvert_exporter": "python",
   "pygments_lexer": "ipython3",
   "version": "3.7.3"
  }
 },
 "nbformat": 4,
 "nbformat_minor": 2
}
